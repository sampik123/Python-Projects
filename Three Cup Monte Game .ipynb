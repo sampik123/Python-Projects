{
 "cells": [
  {
   "cell_type": "markdown",
   "id": "fd7e5947",
   "metadata": {},
   "source": [
    "# Mimic the effect of \"Three cup Monte\" Game"
   ]
  },
  {
   "cell_type": "markdown",
   "id": "84777a1d",
   "metadata": {},
   "source": [
    "created a few functions to mimic the carnival guessing game \"three cup mont\".\n",
    "our simple game won't actually show the cups or ball , instead we will simply mimic the effect with a python list.\n",
    "\n",
    "    our simple game will also not show the shuffle to the user, so the guess is completely random"
   ]
  },
  {
   "cell_type": "code",
   "execution_count": 4,
   "id": "a3519bbb",
   "metadata": {},
   "outputs": [
    {
     "name": "stdout",
     "output_type": "stream",
     "text": [
      "Pick a number: 0,1 or 2: 2\n",
      "Correct!\n"
     ]
    }
   ],
   "source": [
    "mylist = [' ','O',' ']\n",
    "\n",
    "from random import shuffle\n",
    "\n",
    "def shuffle_list(mylist):\n",
    "    shuffle(mylist)\n",
    "    return mylist\n",
    "\n",
    "\n",
    "\n",
    "def player_guess():\n",
    "    \n",
    "    guess = ''\n",
    "    \n",
    "    while guess not in ['0','1','2']:\n",
    "        guess = input('Pick a number: 0,1 or 2: ')\n",
    "        \n",
    "    return int(guess)    \n",
    "\n",
    "\n",
    "\n",
    "\n",
    "def check_guess(mylist,guess):\n",
    "    if mylist[guess] == 'O':\n",
    "        print(\"Correct!\")\n",
    "    else:\n",
    "        print(\"Wrong guess!\")\n",
    "        print(mylist)\n",
    "        \n",
    "        \n",
    "\n",
    "        \n",
    "# INITIAL LIST\n",
    "\n",
    "mylist = [' ','O',' ']\n",
    "\n",
    "# SHUFFLE LIST\n",
    "mixedup_list = shuffle_list(mylist)\n",
    "\n",
    "# USER GUESS\n",
    "guess = player_guess()\n",
    "\n",
    "# USER GUESS\n",
    "check_guess(mixedup_list , guess)        "
   ]
  },
  {
   "cell_type": "code",
   "execution_count": null,
   "id": "ee461910",
   "metadata": {},
   "outputs": [],
   "source": []
  }
 ],
 "metadata": {
  "kernelspec": {
   "display_name": "Python 3 (ipykernel)",
   "language": "python",
   "name": "python3"
  },
  "language_info": {
   "codemirror_mode": {
    "name": "ipython",
    "version": 3
   },
   "file_extension": ".py",
   "mimetype": "text/x-python",
   "name": "python",
   "nbconvert_exporter": "python",
   "pygments_lexer": "ipython3",
   "version": "3.9.7"
  }
 },
 "nbformat": 4,
 "nbformat_minor": 5
}
